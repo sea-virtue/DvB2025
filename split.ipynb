{
 "cells": [
  {
   "cell_type": "code",
   "execution_count": 1,
   "metadata": {},
   "outputs": [],
   "source": [
    "import pandas as pd\n",
    "import os\n",
    "import random\n",
    "import shutil\n",
    "import cv2"
   ]
  },
  {
   "cell_type": "code",
   "execution_count": 2,
   "metadata": {},
   "outputs": [
    {
     "data": {
      "text/html": [
       "<div>\n",
       "<style scoped>\n",
       "    .dataframe tbody tr th:only-of-type {\n",
       "        vertical-align: middle;\n",
       "    }\n",
       "\n",
       "    .dataframe tbody tr th {\n",
       "        vertical-align: top;\n",
       "    }\n",
       "\n",
       "    .dataframe thead th {\n",
       "        text-align: right;\n",
       "    }\n",
       "</style>\n",
       "<table border=\"1\" class=\"dataframe\">\n",
       "  <thead>\n",
       "    <tr style=\"text-align: right;\">\n",
       "      <th></th>\n",
       "      <th>0</th>\n",
       "    </tr>\n",
       "  </thead>\n",
       "  <tbody>\n",
       "    <tr>\n",
       "      <th>0</th>\n",
       "      <td>00_01_52_to_00_01_58.mp4</td>\n",
       "    </tr>\n",
       "    <tr>\n",
       "      <th>1</th>\n",
       "      <td>00_02_45_to_00_03_10_cut.mpg</td>\n",
       "    </tr>\n",
       "    <tr>\n",
       "      <th>2</th>\n",
       "      <td>00_06_10_to_00_06_27.mp4</td>\n",
       "    </tr>\n",
       "    <tr>\n",
       "      <th>3</th>\n",
       "      <td>00_09_30_to_00_10_09.mp4</td>\n",
       "    </tr>\n",
       "    <tr>\n",
       "      <th>4</th>\n",
       "      <td>00_10_09_to_00_10_40.mp4</td>\n",
       "    </tr>\n",
       "    <tr>\n",
       "      <th>...</th>\n",
       "      <td>...</td>\n",
       "    </tr>\n",
       "    <tr>\n",
       "      <th>72</th>\n",
       "      <td>two_parrot_disco_1.avi</td>\n",
       "    </tr>\n",
       "    <tr>\n",
       "      <th>73</th>\n",
       "      <td>two_uavs_plus_airplane.avi</td>\n",
       "    </tr>\n",
       "    <tr>\n",
       "      <th>74</th>\n",
       "      <td>2019_10_16_C0003_5043_mavic.mp4</td>\n",
       "    </tr>\n",
       "    <tr>\n",
       "      <th>75</th>\n",
       "      <td>GOPR5842_002.mp4</td>\n",
       "    </tr>\n",
       "    <tr>\n",
       "      <th>76</th>\n",
       "      <td>gopro_002.mp4</td>\n",
       "    </tr>\n",
       "  </tbody>\n",
       "</table>\n",
       "<p>77 rows × 1 columns</p>\n",
       "</div>"
      ],
      "text/plain": [
       "                                  0\n",
       "0          00_01_52_to_00_01_58.mp4\n",
       "1      00_02_45_to_00_03_10_cut.mpg\n",
       "2          00_06_10_to_00_06_27.mp4\n",
       "3          00_09_30_to_00_10_09.mp4\n",
       "4          00_10_09_to_00_10_40.mp4\n",
       "..                              ...\n",
       "72           two_parrot_disco_1.avi\n",
       "73       two_uavs_plus_airplane.avi\n",
       "74  2019_10_16_C0003_5043_mavic.mp4\n",
       "75                 GOPR5842_002.mp4\n",
       "76                    gopro_002.mp4\n",
       "\n",
       "[77 rows x 1 columns]"
      ]
     },
     "execution_count": 2,
     "metadata": {},
     "output_type": "execute_result"
    }
   ],
   "source": [
    "videos = pd.read_csv(\"./Dataset/Drone/train_videos.txt\", header=None)\n",
    "videos"
   ]
  },
  {
   "cell_type": "code",
   "execution_count": 3,
   "metadata": {},
   "outputs": [
    {
     "data": {
      "text/plain": [
       "([20, 50, 40, 73, 24, 9, 56, 53, 10, 18, 76, 43, 68, 0, 70, 4],\n",
       " [12, 15, 3, 19, 75, 61, 6, 30, 17, 55, 26, 1, 67, 28, 48, 74],\n",
       " [2,\n",
       "  5,\n",
       "  7,\n",
       "  8,\n",
       "  11,\n",
       "  13,\n",
       "  14,\n",
       "  16,\n",
       "  21,\n",
       "  22,\n",
       "  23,\n",
       "  25,\n",
       "  27,\n",
       "  29,\n",
       "  31,\n",
       "  32,\n",
       "  33,\n",
       "  34,\n",
       "  35,\n",
       "  36,\n",
       "  37,\n",
       "  38,\n",
       "  39,\n",
       "  41,\n",
       "  42,\n",
       "  44,\n",
       "  45,\n",
       "  46,\n",
       "  47,\n",
       "  49,\n",
       "  51,\n",
       "  52,\n",
       "  54,\n",
       "  57,\n",
       "  58,\n",
       "  59,\n",
       "  60,\n",
       "  62,\n",
       "  63,\n",
       "  64,\n",
       "  65,\n",
       "  66,\n",
       "  69,\n",
       "  71,\n",
       "  72])"
      ]
     },
     "execution_count": 3,
     "metadata": {},
     "output_type": "execute_result"
    }
   ],
   "source": [
    "index = [i for i in range(77)]\n",
    "val = []\n",
    "while len(val) < 77 * 0.2:\n",
    "    x = random.choice(index)\n",
    "    if x not in val:\n",
    "        val.append(x)\n",
    "\n",
    "test = []\n",
    "while len(test) < 77 * 0.2:\n",
    "    x = random.choice(index)\n",
    "    if x not in val and x not in test:\n",
    "        test.append(x)\n",
    "\n",
    "train = [i for i in index if i not in test and i not in val]\n",
    "\n",
    "val, test, train"
   ]
  },
  {
   "cell_type": "code",
   "execution_count": 4,
   "metadata": {},
   "outputs": [],
   "source": [
    "split = [train, val, test]\n",
    "split_label = ['train/', 'val/', 'test/']"
   ]
  },
  {
   "cell_type": "code",
   "execution_count": 5,
   "metadata": {},
   "outputs": [],
   "source": [
    "data_path = \"./Dataset/Drone/train_images/\"\n",
    "yolo_path = \"./Dataset/Yolo/images/\"\n",
    "data_ann  = \"./Dataset/Drone/annotations/\"\n",
    "yolo_ann  = \"./Dataset/Yolo/labels/\""
   ]
  },
  {
   "cell_type": "code",
   "execution_count": 6,
   "metadata": {},
   "outputs": [],
   "source": [
    "index = 0\n",
    "for i in split:\n",
    "\n",
    "    d = split_label[index]\n",
    "    index += 1\n",
    "\n",
    "    for j in i:\n",
    "        for k in os.listdir(data_path + videos[0][j][:-4] + '/'):\n",
    "\n",
    "            shutil.copy(data_path + videos[0][j][:-4] + '/' + k, yolo_path + d + videos[0][j][:-4] + '_' + k)"
   ]
  },
  {
   "cell_type": "code",
   "execution_count": 7,
   "metadata": {},
   "outputs": [],
   "source": [
    "index = 0\n",
    "for i in split:\n",
    "\n",
    "    d = split_label[index]\n",
    "    index += 1\n",
    "\n",
    "    for j in i:\n",
    "\n",
    "        txt_file = data_ann + videos[0][j][:-3] + 'txt'\n",
    "        ref_img = cv2.imread(yolo_path + d + videos[0][j][:-4] + '_frame_0000.jpg') \n",
    "        ref_h, ref_w = ref_img.shape[0:2]\n",
    "\n",
    "        with open(txt_file, 'r') as fi:\n",
    "\n",
    "            for line in fi.readlines()[::5]:\n",
    "\n",
    "                line = line.split()\n",
    "                label_file = yolo_ann + d + videos[0][j][:-4] + '_frame_' + '0' * (4 - len(line[0])) + str(int(line[0])) + '.txt'\n",
    "\n",
    "                with open(label_file, 'w') as wr:\n",
    "                    for l in range(int(line[1])):\n",
    "\n",
    "                        x, y, w, h = list(map(int, line[l*5 + 2: (l+1)*5 + 1]))\n",
    "                        x_c = (x + w/2) / ref_w \n",
    "                        y_c = (y + h/2) / ref_h \n",
    "                        w /= ref_w\n",
    "                        h /= ref_h\n",
    "                        wr.write(f'0 {x_c} {y_c} {w} {h}')\n",
    "                    wr.close()\n",
    "            fi.close()"
   ]
  },
  {
   "cell_type": "code",
   "execution_count": 8,
   "metadata": {},
   "outputs": [
    {
     "data": {
      "text/plain": [
       "(13690, 13690)"
      ]
     },
     "execution_count": 8,
     "metadata": {},
     "output_type": "execute_result"
    }
   ],
   "source": [
    "train_images = os.listdir(yolo_path + 'train/')\n",
    "train_labels = os.listdir(yolo_ann  + 'train/')\n",
    "len(train_images), len(train_labels)"
   ]
  },
  {
   "cell_type": "code",
   "execution_count": 9,
   "metadata": {},
   "outputs": [],
   "source": [
    "for i in train_labels:\n",
    "    if i[:-4]+'.jpg' not in train_images:\n",
    "        os.remove(yolo_ann + 'train/' + i)\n",
    "        print(i, 'removed')"
   ]
  },
  {
   "cell_type": "code",
   "execution_count": 10,
   "metadata": {},
   "outputs": [
    {
     "data": {
      "text/plain": [
       "(3578, 3579)"
      ]
     },
     "execution_count": 10,
     "metadata": {},
     "output_type": "execute_result"
    }
   ],
   "source": [
    "val_images = os.listdir(yolo_path + 'val/')\n",
    "val_labels = os.listdir(yolo_ann  + 'val/')\n",
    "len(val_images), len(val_labels)"
   ]
  },
  {
   "cell_type": "code",
   "execution_count": 11,
   "metadata": {},
   "outputs": [
    {
     "data": {
      "text/plain": [
       "(4070, 4073)"
      ]
     },
     "execution_count": 11,
     "metadata": {},
     "output_type": "execute_result"
    }
   ],
   "source": [
    "test_images = os.listdir(yolo_path + 'test/')\n",
    "test_labels = os.listdir(yolo_ann  + 'test/')\n",
    "len(test_images), len(test_labels)"
   ]
  },
  {
   "cell_type": "code",
   "execution_count": 12,
   "metadata": {},
   "outputs": [
    {
     "name": "stdout",
     "output_type": "stream",
     "text": [
      "2019_10_16_C0003_3633_inspire_frame_1415.txt removed\n",
      "2019_10_16_C0003_3633_inspire_frame_1420.txt removed\n",
      "2019_10_16_C0003_3633_inspire_frame_1425.txt removed\n"
     ]
    }
   ],
   "source": [
    "for i in test_labels:\n",
    "    if i[:-4]+'.jpg' not in test_images:\n",
    "        os.remove(yolo_ann + 'test/' + i)\n",
    "        print(i, 'removed')"
   ]
  },
  {
   "cell_type": "code",
   "execution_count": null,
   "metadata": {},
   "outputs": [],
   "source": []
  }
 ],
 "metadata": {
  "kernelspec": {
   "display_name": "UAV",
   "language": "python",
   "name": "python3"
  },
  "language_info": {
   "codemirror_mode": {
    "name": "ipython",
    "version": 3
   },
   "file_extension": ".py",
   "mimetype": "text/x-python",
   "name": "python",
   "nbconvert_exporter": "python",
   "pygments_lexer": "ipython3",
   "version": "3.12.8"
  },
  "orig_nbformat": 4
 },
 "nbformat": 4,
 "nbformat_minor": 2
}
